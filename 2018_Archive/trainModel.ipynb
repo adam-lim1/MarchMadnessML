{
 "cells": [
  {
   "cell_type": "code",
   "execution_count": 1,
   "metadata": {
    "ExecuteTime": {
     "end_time": "2018-05-13T20:21:29.047500Z",
     "start_time": "2018-05-13T20:21:21.522500Z"
    },
    "collapsed": true
   },
   "outputs": [],
   "source": [
    "import pandas as pd\n",
    "import numpy as np\n",
    "\n",
    "from sklearn.ensemble import RandomForestClassifier\n",
    "from sklearn.model_selection import train_test_split, cross_validate\n",
    "\n",
    "from sklearn.metrics import confusion_matrix, accuracy_score\n",
    "from sklearn.externals import joblib"
   ]
  },
  {
   "cell_type": "markdown",
   "metadata": {},
   "source": [
    "<b> Read in data </b>"
   ]
  },
  {
   "cell_type": "code",
   "execution_count": 2,
   "metadata": {
    "ExecuteTime": {
     "end_time": "2018-05-13T20:21:29.194500Z",
     "start_time": "2018-05-13T20:21:29.058500Z"
    }
   },
   "outputs": [
    {
     "data": {
      "text/html": [
       "<div>\n",
       "<style>\n",
       "    .dataframe thead tr:only-child th {\n",
       "        text-align: right;\n",
       "    }\n",
       "\n",
       "    .dataframe thead th {\n",
       "        text-align: left;\n",
       "    }\n",
       "\n",
       "    .dataframe tbody tr th {\n",
       "        vertical-align: top;\n",
       "    }\n",
       "</style>\n",
       "<table border=\"1\" class=\"dataframe\">\n",
       "  <thead>\n",
       "    <tr style=\"text-align: right;\">\n",
       "      <th></th>\n",
       "      <th>OppScore_diff</th>\n",
       "      <th>Score_diff</th>\n",
       "      <th>OppFGM_diff</th>\n",
       "      <th>OppFGA_diff</th>\n",
       "      <th>OppFGM3_diff</th>\n",
       "      <th>OppFGA3_diff</th>\n",
       "      <th>OppFTM_diff</th>\n",
       "      <th>OppFTA_diff</th>\n",
       "      <th>OppOR_diff</th>\n",
       "      <th>OppDR_diff</th>\n",
       "      <th>...</th>\n",
       "      <th>DR_diff</th>\n",
       "      <th>Ast_diff</th>\n",
       "      <th>TO_diff</th>\n",
       "      <th>Stl_diff</th>\n",
       "      <th>Blk_diff</th>\n",
       "      <th>PF_diff</th>\n",
       "      <th>FGpct_diff</th>\n",
       "      <th>FG3pct_diff</th>\n",
       "      <th>FTpct_diff</th>\n",
       "      <th>WTeam</th>\n",
       "    </tr>\n",
       "  </thead>\n",
       "  <tbody>\n",
       "    <tr>\n",
       "      <th>0</th>\n",
       "      <td>7.614943</td>\n",
       "      <td>-1.593103</td>\n",
       "      <td>2.126437</td>\n",
       "      <td>0.565517</td>\n",
       "      <td>0.087356</td>\n",
       "      <td>-2.408046</td>\n",
       "      <td>3.274713</td>\n",
       "      <td>3.818391</td>\n",
       "      <td>1.790805</td>\n",
       "      <td>-0.039080</td>\n",
       "      <td>...</td>\n",
       "      <td>-1.627586</td>\n",
       "      <td>-1.165517</td>\n",
       "      <td>0.973563</td>\n",
       "      <td>0.635632</td>\n",
       "      <td>0.766667</td>\n",
       "      <td>0.803448</td>\n",
       "      <td>-0.018262</td>\n",
       "      <td>0.039433</td>\n",
       "      <td>0.142815</td>\n",
       "      <td>1</td>\n",
       "    </tr>\n",
       "    <tr>\n",
       "      <th>1</th>\n",
       "      <td>-7.112069</td>\n",
       "      <td>-17.421182</td>\n",
       "      <td>-3.598522</td>\n",
       "      <td>-9.609606</td>\n",
       "      <td>0.747537</td>\n",
       "      <td>1.483990</td>\n",
       "      <td>-0.662562</td>\n",
       "      <td>-1.955665</td>\n",
       "      <td>-3.520936</td>\n",
       "      <td>-1.423645</td>\n",
       "      <td>...</td>\n",
       "      <td>-1.918719</td>\n",
       "      <td>-3.435961</td>\n",
       "      <td>-0.716749</td>\n",
       "      <td>-1.602217</td>\n",
       "      <td>-1.248768</td>\n",
       "      <td>-1.853448</td>\n",
       "      <td>-0.016969</td>\n",
       "      <td>-0.009777</td>\n",
       "      <td>-0.043580</td>\n",
       "      <td>2</td>\n",
       "    </tr>\n",
       "    <tr>\n",
       "      <th>2</th>\n",
       "      <td>-3.344828</td>\n",
       "      <td>-1.448276</td>\n",
       "      <td>-1.517241</td>\n",
       "      <td>2.206897</td>\n",
       "      <td>0.448276</td>\n",
       "      <td>2.413793</td>\n",
       "      <td>-0.758621</td>\n",
       "      <td>0.206897</td>\n",
       "      <td>1.344828</td>\n",
       "      <td>3.034483</td>\n",
       "      <td>...</td>\n",
       "      <td>2.655172</td>\n",
       "      <td>1.068966</td>\n",
       "      <td>-0.206897</td>\n",
       "      <td>2.172414</td>\n",
       "      <td>0.827586</td>\n",
       "      <td>-0.655172</td>\n",
       "      <td>-0.040251</td>\n",
       "      <td>0.030989</td>\n",
       "      <td>-0.016122</td>\n",
       "      <td>2</td>\n",
       "    </tr>\n",
       "    <tr>\n",
       "      <th>3</th>\n",
       "      <td>8.908046</td>\n",
       "      <td>0.102403</td>\n",
       "      <td>2.466040</td>\n",
       "      <td>2.597701</td>\n",
       "      <td>0.086729</td>\n",
       "      <td>-0.406479</td>\n",
       "      <td>3.889237</td>\n",
       "      <td>5.268548</td>\n",
       "      <td>1.180773</td>\n",
       "      <td>-2.467085</td>\n",
       "      <td>...</td>\n",
       "      <td>0.094044</td>\n",
       "      <td>-1.197492</td>\n",
       "      <td>4.877743</td>\n",
       "      <td>-1.290491</td>\n",
       "      <td>-0.454545</td>\n",
       "      <td>3.692790</td>\n",
       "      <td>0.005763</td>\n",
       "      <td>-0.008284</td>\n",
       "      <td>0.072864</td>\n",
       "      <td>1</td>\n",
       "    </tr>\n",
       "    <tr>\n",
       "      <th>4</th>\n",
       "      <td>1.758621</td>\n",
       "      <td>2.082759</td>\n",
       "      <td>1.945977</td>\n",
       "      <td>5.659770</td>\n",
       "      <td>1.370115</td>\n",
       "      <td>4.448276</td>\n",
       "      <td>-3.503448</td>\n",
       "      <td>-3.751724</td>\n",
       "      <td>0.639080</td>\n",
       "      <td>1.566667</td>\n",
       "      <td>...</td>\n",
       "      <td>2.345977</td>\n",
       "      <td>1.333333</td>\n",
       "      <td>-0.027586</td>\n",
       "      <td>-1.214943</td>\n",
       "      <td>-0.273563</td>\n",
       "      <td>-1.563218</td>\n",
       "      <td>0.009399</td>\n",
       "      <td>0.022444</td>\n",
       "      <td>-0.084846</td>\n",
       "      <td>1</td>\n",
       "    </tr>\n",
       "  </tbody>\n",
       "</table>\n",
       "<p>5 rows × 32 columns</p>\n",
       "</div>"
      ],
      "text/plain": [
       "   OppScore_diff  Score_diff  OppFGM_diff  OppFGA_diff  OppFGM3_diff  \\\n",
       "0       7.614943   -1.593103     2.126437     0.565517      0.087356   \n",
       "1      -7.112069  -17.421182    -3.598522    -9.609606      0.747537   \n",
       "2      -3.344828   -1.448276    -1.517241     2.206897      0.448276   \n",
       "3       8.908046    0.102403     2.466040     2.597701      0.086729   \n",
       "4       1.758621    2.082759     1.945977     5.659770      1.370115   \n",
       "\n",
       "   OppFGA3_diff  OppFTM_diff  OppFTA_diff  OppOR_diff  OppDR_diff  ...    \\\n",
       "0     -2.408046     3.274713     3.818391    1.790805   -0.039080  ...     \n",
       "1      1.483990    -0.662562    -1.955665   -3.520936   -1.423645  ...     \n",
       "2      2.413793    -0.758621     0.206897    1.344828    3.034483  ...     \n",
       "3     -0.406479     3.889237     5.268548    1.180773   -2.467085  ...     \n",
       "4      4.448276    -3.503448    -3.751724    0.639080    1.566667  ...     \n",
       "\n",
       "    DR_diff  Ast_diff   TO_diff  Stl_diff  Blk_diff   PF_diff  FGpct_diff  \\\n",
       "0 -1.627586 -1.165517  0.973563  0.635632  0.766667  0.803448   -0.018262   \n",
       "1 -1.918719 -3.435961 -0.716749 -1.602217 -1.248768 -1.853448   -0.016969   \n",
       "2  2.655172  1.068966 -0.206897  2.172414  0.827586 -0.655172   -0.040251   \n",
       "3  0.094044 -1.197492  4.877743 -1.290491 -0.454545  3.692790    0.005763   \n",
       "4  2.345977  1.333333 -0.027586 -1.214943 -0.273563 -1.563218    0.009399   \n",
       "\n",
       "   FG3pct_diff  FTpct_diff  WTeam  \n",
       "0     0.039433    0.142815      1  \n",
       "1    -0.009777   -0.043580      2  \n",
       "2     0.030989   -0.016122      2  \n",
       "3    -0.008284    0.072864      1  \n",
       "4     0.022444   -0.084846      1  \n",
       "\n",
       "[5 rows x 32 columns]"
      ]
     },
     "execution_count": 2,
     "metadata": {},
     "output_type": "execute_result"
    }
   ],
   "source": [
    "modelData = pd.read_pickle(\"modelData.pkl\")\n",
    "modelData.head()"
   ]
  },
  {
   "cell_type": "markdown",
   "metadata": {},
   "source": [
    "<b> Feature engineered and selected model </b>\n",
    "\n",
    "To be developed - 2019?"
   ]
  },
  {
   "cell_type": "code",
   "execution_count": null,
   "metadata": {
    "collapsed": true
   },
   "outputs": [],
   "source": []
  },
  {
   "cell_type": "markdown",
   "metadata": {},
   "source": [
    "<b> Simple Model </b>\n",
    "<br> Due to time constraints wasn’t able to make the this super robust"
   ]
  },
  {
   "cell_type": "code",
   "execution_count": 3,
   "metadata": {
    "ExecuteTime": {
     "end_time": "2018-05-13T20:21:29.242500Z",
     "start_time": "2018-05-13T20:21:29.205500Z"
    }
   },
   "outputs": [],
   "source": [
    "simpleData = modelData[['WTeam','Score_diff', 'OppScore_diff', 'FTpct_diff', 'FTA_diff']]"
   ]
  },
  {
   "cell_type": "code",
   "execution_count": 4,
   "metadata": {
    "ExecuteTime": {
     "end_time": "2018-05-13T20:21:29.339500Z",
     "start_time": "2018-05-13T20:21:29.289500Z"
    },
    "collapsed": true
   },
   "outputs": [],
   "source": [
    "# Split X and Y\n",
    "x = simpleData.drop('WTeam', axis=1)\n",
    "y = simpleData['WTeam']"
   ]
  },
  {
   "cell_type": "code",
   "execution_count": 5,
   "metadata": {
    "ExecuteTime": {
     "end_time": "2018-05-13T20:21:29.437500Z",
     "start_time": "2018-05-13T20:21:29.392500Z"
    },
    "collapsed": true
   },
   "outputs": [],
   "source": [
    "x_train, x_test, y_train, y_test = train_test_split(x, y, test_size=0.2, random_state=42)"
   ]
  },
  {
   "cell_type": "code",
   "execution_count": 6,
   "metadata": {
    "ExecuteTime": {
     "end_time": "2018-05-13T20:21:29.500500Z",
     "start_time": "2018-05-13T20:21:29.458500Z"
    },
    "collapsed": true
   },
   "outputs": [],
   "source": [
    "clf = RandomForestClassifier(max_depth=10, random_state=0)"
   ]
  },
  {
   "cell_type": "code",
   "execution_count": 7,
   "metadata": {
    "ExecuteTime": {
     "end_time": "2018-05-13T20:21:29.702500Z",
     "start_time": "2018-05-13T20:21:29.518500Z"
    }
   },
   "outputs": [
    {
     "data": {
      "text/plain": [
       "['fitted_rf.pkl']"
      ]
     },
     "execution_count": 7,
     "metadata": {},
     "output_type": "execute_result"
    }
   ],
   "source": [
    "# SAVED model\n",
    "fitted_rf = clf.fit(x,y)\n",
    "joblib.dump(fitted_rf, 'fitted_rf.pkl')"
   ]
  },
  {
   "cell_type": "code",
   "execution_count": 8,
   "metadata": {
    "ExecuteTime": {
     "end_time": "2018-05-13T20:21:29.737500Z",
     "start_time": "2018-05-13T20:21:29.714500Z"
    },
    "collapsed": true
   },
   "outputs": [],
   "source": [
    "my_predictions = fitted_rf.predict(x_test)"
   ]
  },
  {
   "cell_type": "code",
   "execution_count": 9,
   "metadata": {
    "ExecuteTime": {
     "end_time": "2018-05-13T20:21:29.884500Z",
     "start_time": "2018-05-13T20:21:29.757500Z"
    }
   },
   "outputs": [
    {
     "name": "stdout",
     "output_type": "stream",
     "text": [
      "[[104   5]\n",
      " [ 11  77]]\n",
      "0.9187817258883249\n"
     ]
    }
   ],
   "source": [
    "print(confusion_matrix(y_test, my_predictions))\n",
    "print(accuracy_score(y_test, my_predictions))"
   ]
  },
  {
   "cell_type": "code",
   "execution_count": null,
   "metadata": {
    "collapsed": true
   },
   "outputs": [],
   "source": []
  }
 ],
 "metadata": {
  "kernelspec": {
   "display_name": "Python 3",
   "language": "python",
   "name": "python3"
  },
  "language_info": {
   "codemirror_mode": {
    "name": "ipython",
    "version": 3
   },
   "file_extension": ".py",
   "mimetype": "text/x-python",
   "name": "python",
   "nbconvert_exporter": "python",
   "pygments_lexer": "ipython3",
   "version": "3.6.2"
  }
 },
 "nbformat": 4,
 "nbformat_minor": 2
}
