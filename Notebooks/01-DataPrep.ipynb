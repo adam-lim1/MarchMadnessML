{
 "cells": [
  {
   "cell_type": "code",
   "execution_count": 1,
   "metadata": {},
   "outputs": [],
   "source": [
    "import pandas as pd\n",
    "import numpy as np\n",
    "import sys\n",
    "import os"
   ]
  },
  {
   "cell_type": "code",
   "execution_count": 2,
   "metadata": {},
   "outputs": [],
   "source": [
    "sys.path.append('{}/mmml'.format(os.path.dirname(os.getcwd())))\n",
    "from mmml.config import data_folder\n",
    "from mmml.game_results import *"
   ]
  },
  {
   "cell_type": "code",
   "execution_count": 3,
   "metadata": {},
   "outputs": [],
   "source": [
    "base_path = os.path.dirname(os.getcwd())"
   ]
  },
  {
   "cell_type": "markdown",
   "metadata": {},
   "source": [
    "### `fnDataPrep` Work"
   ]
  },
  {
   "cell_type": "markdown",
   "metadata": {},
   "source": [
    "<b> X FEATURES </b>\n",
    "- Aggregated Regular Season Stats\n",
    "- ELO Rankings\n",
    "- Massey Rankings"
   ]
  },
  {
   "cell_type": "code",
   "execution_count": 4,
   "metadata": {},
   "outputs": [],
   "source": [
    "## Get Regular Season Results\n",
    "reg_results_df = pd.read_csv('{}/Data/Raw/{}/MDataFiles_Stage1/MRegularSeasonDetailedResults.csv'.format(base_path, data_folder))\n",
    "season_results = gameResults(reg_results_df)"
   ]
  },
  {
   "cell_type": "code",
   "execution_count": 5,
   "metadata": {},
   "outputs": [],
   "source": [
    "# Regular Season Stats\n",
    "season_stats = season_results.getSeasonStats()"
   ]
  },
  {
   "cell_type": "code",
   "execution_count": 6,
   "metadata": {},
   "outputs": [
    {
     "name": "stdout",
     "output_type": "stream",
     "text": [
      "Progress: [=======================>]: 87503 / 87504"
     ]
    }
   ],
   "source": [
    "# Elo\n",
    "elo = season_results.getElo()"
   ]
  },
  {
   "cell_type": "code",
   "execution_count": 7,
   "metadata": {},
   "outputs": [],
   "source": [
    "## Massey Rankings\n",
    "massey = pd.read_csv('{}/Data/Raw/{}/MDataFiles_Stage1/MMasseyOrdinals.csv'.format(base_path, data_folder))\n",
    "massey_final = massey.query('RankingDayNum == 133').copy()\n",
    "massey_final = massey_final.set_index(['TeamID','Season']).query('SystemName in [\"POM\", \"SAG\", \"MOR\"]') # \"LMC\", \"EBP\"\n",
    "massey_final = massey_final.drop('RankingDayNum', axis=1)\n",
    "massey_final = massey_final.pivot(columns='SystemName')['OrdinalRank']"
   ]
  },
  {
   "cell_type": "code",
   "execution_count": 8,
   "metadata": {},
   "outputs": [],
   "source": [
    "# Merge Independent Features\n",
    "x_features = season_stats.merge(elo, left_index=True, right_index=True)\\\n",
    "                    .merge(massey_final, left_index=True, right_index=True)"
   ]
  },
  {
   "cell_type": "code",
   "execution_count": 9,
   "metadata": {},
   "outputs": [
    {
     "data": {
      "text/html": [
       "<div>\n",
       "<style scoped>\n",
       "    .dataframe tbody tr th:only-of-type {\n",
       "        vertical-align: middle;\n",
       "    }\n",
       "\n",
       "    .dataframe tbody tr th {\n",
       "        vertical-align: top;\n",
       "    }\n",
       "\n",
       "    .dataframe thead th {\n",
       "        text-align: right;\n",
       "    }\n",
       "</style>\n",
       "<table border=\"1\" class=\"dataframe\">\n",
       "  <thead>\n",
       "    <tr style=\"text-align: right;\">\n",
       "      <th></th>\n",
       "      <th></th>\n",
       "      <th>Ast</th>\n",
       "      <th>Blk</th>\n",
       "      <th>DR</th>\n",
       "      <th>FGA</th>\n",
       "      <th>FGA3</th>\n",
       "      <th>FGM</th>\n",
       "      <th>FGM3</th>\n",
       "      <th>FTA</th>\n",
       "      <th>FTM</th>\n",
       "      <th>NLoc</th>\n",
       "      <th>...</th>\n",
       "      <th>wins</th>\n",
       "      <th>possessions</th>\n",
       "      <th>o_eff</th>\n",
       "      <th>d_eff</th>\n",
       "      <th>net_eff</th>\n",
       "      <th>elo</th>\n",
       "      <th>last_elo</th>\n",
       "      <th>MOR</th>\n",
       "      <th>POM</th>\n",
       "      <th>SAG</th>\n",
       "    </tr>\n",
       "    <tr>\n",
       "      <th>TeamID</th>\n",
       "      <th>Season</th>\n",
       "      <th></th>\n",
       "      <th></th>\n",
       "      <th></th>\n",
       "      <th></th>\n",
       "      <th></th>\n",
       "      <th></th>\n",
       "      <th></th>\n",
       "      <th></th>\n",
       "      <th></th>\n",
       "      <th></th>\n",
       "      <th></th>\n",
       "      <th></th>\n",
       "      <th></th>\n",
       "      <th></th>\n",
       "      <th></th>\n",
       "      <th></th>\n",
       "      <th></th>\n",
       "      <th></th>\n",
       "      <th></th>\n",
       "      <th></th>\n",
       "      <th></th>\n",
       "    </tr>\n",
       "  </thead>\n",
       "  <tbody>\n",
       "    <tr>\n",
       "      <th>1171</th>\n",
       "      <th>2012</th>\n",
       "      <td>278</td>\n",
       "      <td>70</td>\n",
       "      <td>667</td>\n",
       "      <td>1457</td>\n",
       "      <td>447</td>\n",
       "      <td>571</td>\n",
       "      <td>148</td>\n",
       "      <td>526</td>\n",
       "      <td>373</td>\n",
       "      <td>2</td>\n",
       "      <td>...</td>\n",
       "      <td>4</td>\n",
       "      <td>1839.8250</td>\n",
       "      <td>90.389032</td>\n",
       "      <td>100.661748</td>\n",
       "      <td>-10.272716</td>\n",
       "      <td>[1500.0, 1491.8493246116866, 1480.0, 1488.4805...</td>\n",
       "      <td>1351.987274</td>\n",
       "      <td>286.0</td>\n",
       "      <td>294.0</td>\n",
       "      <td>300.0</td>\n",
       "    </tr>\n",
       "    <tr>\n",
       "      <th>1402</th>\n",
       "      <th>2006</th>\n",
       "      <td>287</td>\n",
       "      <td>93</td>\n",
       "      <td>515</td>\n",
       "      <td>1311</td>\n",
       "      <td>406</td>\n",
       "      <td>542</td>\n",
       "      <td>125</td>\n",
       "      <td>422</td>\n",
       "      <td>289</td>\n",
       "      <td>0</td>\n",
       "      <td>...</td>\n",
       "      <td>2</td>\n",
       "      <td>1630.6500</td>\n",
       "      <td>91.865207</td>\n",
       "      <td>110.385429</td>\n",
       "      <td>-18.520222</td>\n",
       "      <td>[1500.0, 1491.8493246116866, 1483.36879746356,...</td>\n",
       "      <td>1351.248141</td>\n",
       "      <td>316.0</td>\n",
       "      <td>324.0</td>\n",
       "      <td>327.0</td>\n",
       "    </tr>\n",
       "    <tr>\n",
       "      <th>1328</th>\n",
       "      <th>2013</th>\n",
       "      <td>384</td>\n",
       "      <td>87</td>\n",
       "      <td>770</td>\n",
       "      <td>1789</td>\n",
       "      <td>472</td>\n",
       "      <td>780</td>\n",
       "      <td>154</td>\n",
       "      <td>646</td>\n",
       "      <td>491</td>\n",
       "      <td>5</td>\n",
       "      <td>...</td>\n",
       "      <td>20</td>\n",
       "      <td>2090.2375</td>\n",
       "      <td>105.490405</td>\n",
       "      <td>98.170662</td>\n",
       "      <td>7.319742</td>\n",
       "      <td>[1500.0, 1508.1506753883134, 1520.102609012492...</td>\n",
       "      <td>1560.789937</td>\n",
       "      <td>49.0</td>\n",
       "      <td>51.0</td>\n",
       "      <td>43.0</td>\n",
       "    </tr>\n",
       "  </tbody>\n",
       "</table>\n",
       "<p>3 rows × 41 columns</p>\n",
       "</div>"
      ],
      "text/plain": [
       "               Ast  Blk   DR   FGA  FGA3  FGM  FGM3  FTA  FTM  NLoc  ...  \\\n",
       "TeamID Season                                                        ...   \n",
       "1171   2012    278   70  667  1457   447  571   148  526  373     2  ...   \n",
       "1402   2006    287   93  515  1311   406  542   125  422  289     0  ...   \n",
       "1328   2013    384   87  770  1789   472  780   154  646  491     5  ...   \n",
       "\n",
       "               wins  possessions       o_eff       d_eff    net_eff  \\\n",
       "TeamID Season                                                         \n",
       "1171   2012       4    1839.8250   90.389032  100.661748 -10.272716   \n",
       "1402   2006       2    1630.6500   91.865207  110.385429 -18.520222   \n",
       "1328   2013      20    2090.2375  105.490405   98.170662   7.319742   \n",
       "\n",
       "                                                             elo     last_elo  \\\n",
       "TeamID Season                                                                   \n",
       "1171   2012    [1500.0, 1491.8493246116866, 1480.0, 1488.4805...  1351.987274   \n",
       "1402   2006    [1500.0, 1491.8493246116866, 1483.36879746356,...  1351.248141   \n",
       "1328   2013    [1500.0, 1508.1506753883134, 1520.102609012492...  1560.789937   \n",
       "\n",
       "                 MOR    POM    SAG  \n",
       "TeamID Season                       \n",
       "1171   2012    286.0  294.0  300.0  \n",
       "1402   2006    316.0  324.0  327.0  \n",
       "1328   2013     49.0   51.0   43.0  \n",
       "\n",
       "[3 rows x 41 columns]"
      ]
     },
     "execution_count": 9,
     "metadata": {},
     "output_type": "execute_result"
    }
   ],
   "source": [
    "x_features.head(3)"
   ]
  },
  {
   "cell_type": "markdown",
   "metadata": {},
   "source": [
    "<b> BASE OF ACCTS </b>\n",
    "- Info on Tournament Matchups: Round, Seed, Game Slot, TeamID, etc."
   ]
  },
  {
   "cell_type": "code",
   "execution_count": 10,
   "metadata": {},
   "outputs": [],
   "source": [
    "t_results_df = pd.read_csv('{}/Data/Raw/{}/MDataFiles_Stage1/MNCAATourneyDetailedResults.csv'.format(base_path, data_folder))\n",
    "t_results = gameResults(t_results_df)\n",
    "base = t_results.getBase()"
   ]
  },
  {
   "cell_type": "code",
   "execution_count": 11,
   "metadata": {},
   "outputs": [],
   "source": [
    "## Add Info on GameRound\n",
    "round_lookup = {134: 0, 135: 0, 136: 1, 137: 1, 138: 2, 139: 2, 143: 3,\n",
    "            144: 3, 145: 4, 146: 4, 152: 5, 154: 6}\n",
    "\n",
    "base['GameRound'] = base['DayNum'].apply(lambda x: round_lookup[x])"
   ]
  },
  {
   "cell_type": "code",
   "execution_count": 12,
   "metadata": {},
   "outputs": [],
   "source": [
    "## Team Seed Info\n",
    "seeds = pd.read_csv('{}/Data/Raw/{}/MDataFiles_Stage1/MNCAATourneySeeds.csv'.format(base_path, data_folder))\n",
    "t_seeds = seeds[['Season', 'TeamID', 'Seed']]\n",
    "t_seeds.set_index(['TeamID', 'Season'], inplace=True)"
   ]
  },
  {
   "cell_type": "code",
   "execution_count": 13,
   "metadata": {},
   "outputs": [],
   "source": [
    "## Tournament Slots\n",
    "slots_simple = pd.read_csv('{}/Data/Raw/{}/MDataFiles_Stage1/MNCAATourneySeedRoundSlots.csv'.format(base_path, data_folder))\n",
    "slots_simple.drop('EarlyDayNum', axis=1, inplace=True)\n",
    "slots_simple.drop('LateDayNum', axis=1, inplace=True)\n",
    "slots_simple = slots_simple.set_index(['Seed', 'GameRound'])"
   ]
  },
  {
   "cell_type": "code",
   "execution_count": 14,
   "metadata": {},
   "outputs": [],
   "source": [
    "## MERGE Matchups, Seeds, Slots\n",
    "base = base.merge(t_seeds, left_on=['HTeamID', 'Season'], right_index=True, how='left')\\\n",
    "                .merge(t_seeds, left_on=['ATeamID', 'Season'], right_index=True, how='left', suffixes=['_H', '_A'])\\\n",
    "                .merge(slots_simple, left_on=['Seed_H', 'GameRound'], right_index=True)"
   ]
  },
  {
   "cell_type": "code",
   "execution_count": 15,
   "metadata": {},
   "outputs": [
    {
     "data": {
      "text/html": [
       "<div>\n",
       "<style scoped>\n",
       "    .dataframe tbody tr th:only-of-type {\n",
       "        vertical-align: middle;\n",
       "    }\n",
       "\n",
       "    .dataframe tbody tr th {\n",
       "        vertical-align: top;\n",
       "    }\n",
       "\n",
       "    .dataframe thead th {\n",
       "        text-align: right;\n",
       "    }\n",
       "</style>\n",
       "<table border=\"1\" class=\"dataframe\">\n",
       "  <thead>\n",
       "    <tr style=\"text-align: right;\">\n",
       "      <th></th>\n",
       "      <th>HTeamID</th>\n",
       "      <th>ATeamID</th>\n",
       "      <th>Season</th>\n",
       "      <th>DayNum</th>\n",
       "      <th>HWin</th>\n",
       "      <th>HScore</th>\n",
       "      <th>AScore</th>\n",
       "      <th>GameRound</th>\n",
       "      <th>Seed_H</th>\n",
       "      <th>Seed_A</th>\n",
       "      <th>GameSlot</th>\n",
       "    </tr>\n",
       "  </thead>\n",
       "  <tbody>\n",
       "    <tr>\n",
       "      <th>1</th>\n",
       "      <td>1112</td>\n",
       "      <td>1436</td>\n",
       "      <td>2003</td>\n",
       "      <td>136</td>\n",
       "      <td>1</td>\n",
       "      <td>80</td>\n",
       "      <td>51</td>\n",
       "      <td>1</td>\n",
       "      <td>Z01</td>\n",
       "      <td>Z16</td>\n",
       "      <td>R1Z1</td>\n",
       "    </tr>\n",
       "    <tr>\n",
       "      <th>86</th>\n",
       "      <td>1246</td>\n",
       "      <td>1197</td>\n",
       "      <td>2004</td>\n",
       "      <td>137</td>\n",
       "      <td>1</td>\n",
       "      <td>96</td>\n",
       "      <td>76</td>\n",
       "      <td>1</td>\n",
       "      <td>Z01</td>\n",
       "      <td>Z16a</td>\n",
       "      <td>R1Z1</td>\n",
       "    </tr>\n",
       "    <tr>\n",
       "      <th>212</th>\n",
       "      <td>1163</td>\n",
       "      <td>1107</td>\n",
       "      <td>2006</td>\n",
       "      <td>137</td>\n",
       "      <td>1</td>\n",
       "      <td>72</td>\n",
       "      <td>59</td>\n",
       "      <td>1</td>\n",
       "      <td>Z01</td>\n",
       "      <td>Z16</td>\n",
       "      <td>R1Z1</td>\n",
       "    </tr>\n",
       "  </tbody>\n",
       "</table>\n",
       "</div>"
      ],
      "text/plain": [
       "     HTeamID  ATeamID  Season  DayNum  HWin  HScore  AScore  GameRound Seed_H  \\\n",
       "1       1112     1436    2003     136     1      80      51          1    Z01   \n",
       "86      1246     1197    2004     137     1      96      76          1    Z01   \n",
       "212     1163     1107    2006     137     1      72      59          1    Z01   \n",
       "\n",
       "    Seed_A GameSlot  \n",
       "1      Z16     R1Z1  \n",
       "86    Z16a     R1Z1  \n",
       "212    Z16     R1Z1  "
      ]
     },
     "execution_count": 15,
     "metadata": {},
     "output_type": "execute_result"
    }
   ],
   "source": [
    "base.head(3)"
   ]
  }
 ],
 "metadata": {
  "kernelspec": {
   "display_name": "Python 3",
   "language": "python",
   "name": "python3"
  },
  "language_info": {
   "codemirror_mode": {
    "name": "ipython",
    "version": 3
   },
   "file_extension": ".py",
   "mimetype": "text/x-python",
   "name": "python",
   "nbconvert_exporter": "python",
   "pygments_lexer": "ipython3",
   "version": "3.6.8"
  }
 },
 "nbformat": 4,
 "nbformat_minor": 2
}
