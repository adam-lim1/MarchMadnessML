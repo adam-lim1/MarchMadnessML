{
 "cells": [
  {
   "cell_type": "code",
   "execution_count": 1,
   "metadata": {},
   "outputs": [],
   "source": [
    "import pandas as pd\n",
    "import sys\n",
    "import os\n",
    "import statistics\n",
    "import logging"
   ]
  },
  {
   "cell_type": "code",
   "execution_count": 2,
   "metadata": {},
   "outputs": [],
   "source": [
    "sys.path.append('{}/Scripts'.format(os.path.dirname(os.getcwd())))\n",
    "from score import *"
   ]
  },
  {
   "cell_type": "code",
   "execution_count": 3,
   "metadata": {},
   "outputs": [],
   "source": [
    "sys.path.append('{}/mmml'.format(os.path.dirname(os.getcwd())))\n",
    "from mmml.utils import *"
   ]
  },
  {
   "cell_type": "code",
   "execution_count": 4,
   "metadata": {},
   "outputs": [],
   "source": [
    "## Get OOT Data created from Driver.py (2017 - 2019)\n",
    "base_path = os.path.dirname(os.getcwd())\n",
    "\n",
    "base_oot = pd.read_pickle('{}/Data/Processed/base_oot.pkl'.format(base_path))\n",
    "scaled_x_features_oot = pd.read_pickle('{}/Data/Processed/scaled_x_features_oot.pkl'.format(base_path))"
   ]
  },
  {
   "cell_type": "code",
   "execution_count": 5,
   "metadata": {
    "scrolled": true
   },
   "outputs": [
    {
     "name": "stdout",
     "output_type": "stream",
     "text": [
      "Progress: [=======================>]: 999 / 1000CPU times: user 7min 10s, sys: 3.11 s, total: 7min 14s\n",
      "Wall time: 7min 14s\n"
     ]
    }
   ],
   "source": [
    "%%time\n",
    "iter_results = {}\n",
    "\n",
    "for year in base_oot['Season'].unique():\n",
    "    iter_results[year] = {'acc': [], 'pts': []}\n",
    "\n",
    "for i in range(0, 1000):\n",
    "    update_progress_bar(i, 1000)\n",
    "        \n",
    "    _, results_df_chalk = fnScore(base_oot, scaled_x_features_oot, scorer='chalk', seed=i)\n",
    "    results_dict = fnEvaluate(results_df_chalk)\n",
    "    \n",
    "    for year in base_oot['Season'].unique():\n",
    "        iter_results[year]['acc'].append(results_dict[year]['acc'])\n",
    "        iter_results[year]['pts'].append(results_dict[year]['pts'])"
   ]
  },
  {
   "cell_type": "code",
   "execution_count": 6,
   "metadata": {},
   "outputs": [
    {
     "name": "stdout",
     "output_type": "stream",
     "text": [
      "2017\n",
      "0.6984126984126984 0.7142857142857143 0.746031746031746\n",
      "820 980.0 1460\n",
      "2018\n",
      "0.5555555555555556 0.5555555555555556 0.5873015873015873\n",
      "650 650.0 1130\n",
      "2019\n",
      "0.6349206349206349 0.6507936507936508 0.6666666666666666\n",
      "760 920.0 1240\n"
     ]
    }
   ],
   "source": [
    "for year in iter_results.keys():\n",
    "    print(year)\n",
    "    print(min(iter_results[year]['acc']), statistics.median(iter_results[year]['acc']), max(iter_results[year]['acc']))\n",
    "    print(min(iter_results[year]['pts']), statistics.median(iter_results[year]['pts']), max(iter_results[year]['pts']))"
   ]
  },
  {
   "cell_type": "code",
   "execution_count": null,
   "metadata": {},
   "outputs": [],
   "source": []
  }
 ],
 "metadata": {
  "kernelspec": {
   "display_name": "Python 3",
   "language": "python",
   "name": "python3"
  },
  "language_info": {
   "codemirror_mode": {
    "name": "ipython",
    "version": 3
   },
   "file_extension": ".py",
   "mimetype": "text/x-python",
   "name": "python",
   "nbconvert_exporter": "python",
   "pygments_lexer": "ipython3",
   "version": "3.6.8"
  }
 },
 "nbformat": 4,
 "nbformat_minor": 2
}
