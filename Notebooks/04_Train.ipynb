{
 "cells": [
  {
   "cell_type": "code",
   "execution_count": 1,
   "metadata": {},
   "outputs": [],
   "source": [
    "import pandas as pd\n",
    "import sys\n",
    "import os\n",
    "import logging\n",
    "from sklearn.model_selection import GridSearchCV\n",
    "import xgboost as xgb\n",
    "import pickle"
   ]
  },
  {
   "cell_type": "code",
   "execution_count": 2,
   "metadata": {},
   "outputs": [],
   "source": [
    "sys.path.append('{}/mmml'.format(os.path.dirname(os.getcwd())))\n",
    "from mmml.config import data_folder\n",
    "from mmml.game_results import *\n",
    "from mmml.utils import *"
   ]
  },
  {
   "cell_type": "code",
   "execution_count": 3,
   "metadata": {},
   "outputs": [
    {
     "data": {
      "text/html": [
       "<div>\n",
       "<style scoped>\n",
       "    .dataframe tbody tr th:only-of-type {\n",
       "        vertical-align: middle;\n",
       "    }\n",
       "\n",
       "    .dataframe tbody tr th {\n",
       "        vertical-align: top;\n",
       "    }\n",
       "\n",
       "    .dataframe thead th {\n",
       "        text-align: right;\n",
       "    }\n",
       "</style>\n",
       "<table border=\"1\" class=\"dataframe\">\n",
       "  <thead>\n",
       "    <tr style=\"text-align: right;\">\n",
       "      <th></th>\n",
       "      <th>HTeamID</th>\n",
       "      <th>ATeamID</th>\n",
       "      <th>Season</th>\n",
       "      <th>DayNum</th>\n",
       "      <th>HWin</th>\n",
       "      <th>HScore</th>\n",
       "      <th>AScore</th>\n",
       "      <th>GameRound</th>\n",
       "      <th>Seed_H</th>\n",
       "      <th>Seed_A</th>\n",
       "      <th>GameSlot</th>\n",
       "    </tr>\n",
       "  </thead>\n",
       "  <tbody>\n",
       "    <tr>\n",
       "      <th>1</th>\n",
       "      <td>1112</td>\n",
       "      <td>1436</td>\n",
       "      <td>2003</td>\n",
       "      <td>136</td>\n",
       "      <td>1</td>\n",
       "      <td>80</td>\n",
       "      <td>51</td>\n",
       "      <td>1</td>\n",
       "      <td>Z01</td>\n",
       "      <td>Z16</td>\n",
       "      <td>R1Z1</td>\n",
       "    </tr>\n",
       "    <tr>\n",
       "      <th>86</th>\n",
       "      <td>1246</td>\n",
       "      <td>1197</td>\n",
       "      <td>2004</td>\n",
       "      <td>137</td>\n",
       "      <td>1</td>\n",
       "      <td>96</td>\n",
       "      <td>76</td>\n",
       "      <td>1</td>\n",
       "      <td>Z01</td>\n",
       "      <td>Z16a</td>\n",
       "      <td>R1Z1</td>\n",
       "    </tr>\n",
       "    <tr>\n",
       "      <th>212</th>\n",
       "      <td>1163</td>\n",
       "      <td>1107</td>\n",
       "      <td>2006</td>\n",
       "      <td>137</td>\n",
       "      <td>1</td>\n",
       "      <td>72</td>\n",
       "      <td>59</td>\n",
       "      <td>1</td>\n",
       "      <td>Z01</td>\n",
       "      <td>Z16</td>\n",
       "      <td>R1Z1</td>\n",
       "    </tr>\n",
       "  </tbody>\n",
       "</table>\n",
       "</div>"
      ],
      "text/plain": [
       "     HTeamID  ATeamID  Season  DayNum  HWin  HScore  AScore  GameRound Seed_H  \\\n",
       "1       1112     1436    2003     136     1      80      51          1    Z01   \n",
       "86      1246     1197    2004     137     1      96      76          1    Z01   \n",
       "212     1163     1107    2006     137     1      72      59          1    Z01   \n",
       "\n",
       "    Seed_A GameSlot  \n",
       "1      Z16     R1Z1  \n",
       "86    Z16a     R1Z1  \n",
       "212    Z16     R1Z1  "
      ]
     },
     "execution_count": 3,
     "metadata": {},
     "output_type": "execute_result"
    }
   ],
   "source": [
    "base_dev = pd.read_pickle('{}/Data/Processed/base_dev.pkl'.format(os.path.dirname(os.getcwd())))\n",
    "base_dev.head(3)"
   ]
  },
  {
   "cell_type": "code",
   "execution_count": 4,
   "metadata": {},
   "outputs": [
    {
     "data": {
      "text/html": [
       "<div>\n",
       "<style scoped>\n",
       "    .dataframe tbody tr th:only-of-type {\n",
       "        vertical-align: middle;\n",
       "    }\n",
       "\n",
       "    .dataframe tbody tr th {\n",
       "        vertical-align: top;\n",
       "    }\n",
       "\n",
       "    .dataframe thead th {\n",
       "        text-align: right;\n",
       "    }\n",
       "</style>\n",
       "<table border=\"1\" class=\"dataframe\">\n",
       "  <thead>\n",
       "    <tr style=\"text-align: right;\">\n",
       "      <th></th>\n",
       "      <th></th>\n",
       "      <th>Ast</th>\n",
       "      <th>Blk</th>\n",
       "      <th>DR</th>\n",
       "      <th>FGA</th>\n",
       "      <th>FGA3</th>\n",
       "      <th>FGM</th>\n",
       "      <th>FGM3</th>\n",
       "      <th>FTA</th>\n",
       "      <th>FTM</th>\n",
       "      <th>NLoc</th>\n",
       "      <th>...</th>\n",
       "      <th>possessions</th>\n",
       "      <th>o_eff</th>\n",
       "      <th>d_eff</th>\n",
       "      <th>net_eff</th>\n",
       "      <th>elo</th>\n",
       "      <th>last_elo</th>\n",
       "      <th>MOR</th>\n",
       "      <th>POM</th>\n",
       "      <th>SAG</th>\n",
       "      <th>Avg_Rank</th>\n",
       "    </tr>\n",
       "    <tr>\n",
       "      <th>TeamID</th>\n",
       "      <th>Season</th>\n",
       "      <th></th>\n",
       "      <th></th>\n",
       "      <th></th>\n",
       "      <th></th>\n",
       "      <th></th>\n",
       "      <th></th>\n",
       "      <th></th>\n",
       "      <th></th>\n",
       "      <th></th>\n",
       "      <th></th>\n",
       "      <th></th>\n",
       "      <th></th>\n",
       "      <th></th>\n",
       "      <th></th>\n",
       "      <th></th>\n",
       "      <th></th>\n",
       "      <th></th>\n",
       "      <th></th>\n",
       "      <th></th>\n",
       "      <th></th>\n",
       "      <th></th>\n",
       "    </tr>\n",
       "  </thead>\n",
       "  <tbody>\n",
       "    <tr>\n",
       "      <th>1171</th>\n",
       "      <th>2012</th>\n",
       "      <td>278</td>\n",
       "      <td>70</td>\n",
       "      <td>667</td>\n",
       "      <td>1457</td>\n",
       "      <td>447</td>\n",
       "      <td>571</td>\n",
       "      <td>148</td>\n",
       "      <td>526</td>\n",
       "      <td>373</td>\n",
       "      <td>2</td>\n",
       "      <td>...</td>\n",
       "      <td>1839.8250</td>\n",
       "      <td>90.389032</td>\n",
       "      <td>100.661748</td>\n",
       "      <td>-10.272716</td>\n",
       "      <td>[1500.0, 1491.8493246116866, 1480.0, 1488.4805...</td>\n",
       "      <td>1351.987274</td>\n",
       "      <td>286.0</td>\n",
       "      <td>294.0</td>\n",
       "      <td>300.0</td>\n",
       "      <td>0.835238</td>\n",
       "    </tr>\n",
       "    <tr>\n",
       "      <th>1402</th>\n",
       "      <th>2006</th>\n",
       "      <td>287</td>\n",
       "      <td>93</td>\n",
       "      <td>515</td>\n",
       "      <td>1311</td>\n",
       "      <td>406</td>\n",
       "      <td>542</td>\n",
       "      <td>125</td>\n",
       "      <td>422</td>\n",
       "      <td>289</td>\n",
       "      <td>0</td>\n",
       "      <td>...</td>\n",
       "      <td>1630.6500</td>\n",
       "      <td>91.865207</td>\n",
       "      <td>110.385429</td>\n",
       "      <td>-18.520222</td>\n",
       "      <td>[1500.0, 1491.8493246116866, 1483.36879746356,...</td>\n",
       "      <td>1351.248141</td>\n",
       "      <td>316.0</td>\n",
       "      <td>324.0</td>\n",
       "      <td>327.0</td>\n",
       "      <td>0.918095</td>\n",
       "    </tr>\n",
       "    <tr>\n",
       "      <th>1328</th>\n",
       "      <th>2013</th>\n",
       "      <td>384</td>\n",
       "      <td>87</td>\n",
       "      <td>770</td>\n",
       "      <td>1789</td>\n",
       "      <td>472</td>\n",
       "      <td>780</td>\n",
       "      <td>154</td>\n",
       "      <td>646</td>\n",
       "      <td>491</td>\n",
       "      <td>5</td>\n",
       "      <td>...</td>\n",
       "      <td>2090.2375</td>\n",
       "      <td>105.490405</td>\n",
       "      <td>98.170662</td>\n",
       "      <td>7.319742</td>\n",
       "      <td>[1500.0, 1508.1506753883134, 1520.102609012492...</td>\n",
       "      <td>1560.789937</td>\n",
       "      <td>49.0</td>\n",
       "      <td>51.0</td>\n",
       "      <td>43.0</td>\n",
       "      <td>0.133333</td>\n",
       "    </tr>\n",
       "  </tbody>\n",
       "</table>\n",
       "<p>3 rows × 42 columns</p>\n",
       "</div>"
      ],
      "text/plain": [
       "               Ast  Blk   DR   FGA  FGA3  FGM  FGM3  FTA  FTM  NLoc  ...  \\\n",
       "TeamID Season                                                        ...   \n",
       "1171   2012    278   70  667  1457   447  571   148  526  373     2  ...   \n",
       "1402   2006    287   93  515  1311   406  542   125  422  289     0  ...   \n",
       "1328   2013    384   87  770  1789   472  780   154  646  491     5  ...   \n",
       "\n",
       "               possessions       o_eff       d_eff    net_eff  \\\n",
       "TeamID Season                                                   \n",
       "1171   2012      1839.8250   90.389032  100.661748 -10.272716   \n",
       "1402   2006      1630.6500   91.865207  110.385429 -18.520222   \n",
       "1328   2013      2090.2375  105.490405   98.170662   7.319742   \n",
       "\n",
       "                                                             elo     last_elo  \\\n",
       "TeamID Season                                                                   \n",
       "1171   2012    [1500.0, 1491.8493246116866, 1480.0, 1488.4805...  1351.987274   \n",
       "1402   2006    [1500.0, 1491.8493246116866, 1483.36879746356,...  1351.248141   \n",
       "1328   2013    [1500.0, 1508.1506753883134, 1520.102609012492...  1560.789937   \n",
       "\n",
       "                 MOR    POM    SAG  Avg_Rank  \n",
       "TeamID Season                                 \n",
       "1171   2012    286.0  294.0  300.0  0.835238  \n",
       "1402   2006    316.0  324.0  327.0  0.918095  \n",
       "1328   2013     49.0   51.0   43.0  0.133333  \n",
       "\n",
       "[3 rows x 42 columns]"
      ]
     },
     "execution_count": 4,
     "metadata": {},
     "output_type": "execute_result"
    }
   ],
   "source": [
    "scaled_x_features_dev = pd.read_pickle('{}/Data/Processed/scaled_x_features_dev.pkl'.format(os.path.dirname(os.getcwd())))\n",
    "scaled_x_features_dev.head(3)"
   ]
  },
  {
   "cell_type": "markdown",
   "metadata": {},
   "source": [
    "### Train Classifier"
   ]
  },
  {
   "cell_type": "code",
   "execution_count": 5,
   "metadata": {},
   "outputs": [],
   "source": [
    "## READ FEATURE DICT\n",
    "columns_key = getFeatureDict(pd.read_csv('{}/mmml/mmml/feature_list2.csv'.format(os.path.dirname(os.getcwd()))))"
   ]
  },
  {
   "cell_type": "code",
   "execution_count": 6,
   "metadata": {},
   "outputs": [],
   "source": [
    "### HELPER TO REVERSE BASE DF\n",
    "def reverse_base(base):\n",
    "    reverse_base = base.copy()\n",
    "    reverse_base = reverse_base.rename(columns={'HTeamID': 'ATeamID_2',\n",
    "                                                'ATeamID':'HTeamID_2',\n",
    "                                                'HScore':'AScore_2',\n",
    "                                                'AScore':'HScore_2',\n",
    "                                                'Seed_H':'Seed_A_2',\n",
    "                                                'Seed_A':'Seed_H_2'})\n",
    "\n",
    "    reverse_base = reverse_base.rename(columns={'ATeamID_2': 'ATeamID',\n",
    "                                                'HTeamID_2':'HTeamID',\n",
    "                                                'AScore_2':'AScore',\n",
    "                                                'HScore_2':'HScore',\n",
    "                                                'Seed_A_2':'Seed_A',\n",
    "                                                'Seed_H_2':'Seed_H'})\n",
    "    reverse_base['HWin'] = 1 - reverse_base['HWin']\n",
    "\n",
    "    return reverse_base[base.columns]"
   ]
  },
  {
   "cell_type": "markdown",
   "metadata": {},
   "source": [
    "### `fnTrain` Work"
   ]
  },
  {
   "cell_type": "code",
   "execution_count": 7,
   "metadata": {
    "scrolled": true
   },
   "outputs": [
    {
     "name": "stdout",
     "output_type": "stream",
     "text": [
      "(914, 14)\n"
     ]
    },
    {
     "data": {
      "text/html": [
       "<div>\n",
       "<style scoped>\n",
       "    .dataframe tbody tr th:only-of-type {\n",
       "        vertical-align: middle;\n",
       "    }\n",
       "\n",
       "    .dataframe tbody tr th {\n",
       "        vertical-align: top;\n",
       "    }\n",
       "\n",
       "    .dataframe thead th {\n",
       "        text-align: right;\n",
       "    }\n",
       "</style>\n",
       "<table border=\"1\" class=\"dataframe\">\n",
       "  <thead>\n",
       "    <tr style=\"text-align: right;\">\n",
       "      <th></th>\n",
       "      <th>HTeamID</th>\n",
       "      <th>ATeamID</th>\n",
       "      <th>Season</th>\n",
       "      <th>GameRound</th>\n",
       "      <th>Seed_H</th>\n",
       "      <th>Seed_A</th>\n",
       "      <th>GameSlot</th>\n",
       "      <th>HScore_diff</th>\n",
       "      <th>possessions_diff</th>\n",
       "      <th>o_eff_diff</th>\n",
       "      <th>d_eff_diff</th>\n",
       "      <th>net_eff_diff</th>\n",
       "      <th>last_elo_diff</th>\n",
       "      <th>Avg_Rank_diff</th>\n",
       "    </tr>\n",
       "  </thead>\n",
       "  <tbody>\n",
       "    <tr>\n",
       "      <th>1</th>\n",
       "      <td>1112</td>\n",
       "      <td>1436</td>\n",
       "      <td>2003</td>\n",
       "      <td>1</td>\n",
       "      <td>Z01</td>\n",
       "      <td>Z16</td>\n",
       "      <td>R1Z1</td>\n",
       "      <td>29</td>\n",
       "      <td>239.3500</td>\n",
       "      <td>8.094300</td>\n",
       "      <td>-4.293362</td>\n",
       "      <td>12.387662</td>\n",
       "      <td>91.313784</td>\n",
       "      <td>-0.457143</td>\n",
       "    </tr>\n",
       "    <tr>\n",
       "      <th>33</th>\n",
       "      <td>1112</td>\n",
       "      <td>1211</td>\n",
       "      <td>2003</td>\n",
       "      <td>2</td>\n",
       "      <td>Z01</td>\n",
       "      <td>Z09</td>\n",
       "      <td>R2Z1</td>\n",
       "      <td>1</td>\n",
       "      <td>-8.8875</td>\n",
       "      <td>0.315553</td>\n",
       "      <td>-6.414116</td>\n",
       "      <td>6.729669</td>\n",
       "      <td>57.057837</td>\n",
       "      <td>-0.119048</td>\n",
       "    </tr>\n",
       "    <tr>\n",
       "      <th>57</th>\n",
       "      <td>1112</td>\n",
       "      <td>1242</td>\n",
       "      <td>2003</td>\n",
       "      <td>4</td>\n",
       "      <td>Z01</td>\n",
       "      <td>Z02</td>\n",
       "      <td>R4Z1</td>\n",
       "      <td>-3</td>\n",
       "      <td>-62.1750</td>\n",
       "      <td>0.666609</td>\n",
       "      <td>1.474276</td>\n",
       "      <td>-0.807667</td>\n",
       "      <td>29.976656</td>\n",
       "      <td>-0.000952</td>\n",
       "    </tr>\n",
       "  </tbody>\n",
       "</table>\n",
       "</div>"
      ],
      "text/plain": [
       "    HTeamID  ATeamID  Season  GameRound Seed_H Seed_A GameSlot  HScore_diff  \\\n",
       "1      1112     1436    2003          1    Z01    Z16     R1Z1           29   \n",
       "33     1112     1211    2003          2    Z01    Z09     R2Z1            1   \n",
       "57     1112     1242    2003          4    Z01    Z02     R4Z1           -3   \n",
       "\n",
       "    possessions_diff  o_eff_diff  d_eff_diff  net_eff_diff  last_elo_diff  \\\n",
       "1           239.3500    8.094300   -4.293362     12.387662      91.313784   \n",
       "33           -8.8875    0.315553   -6.414116      6.729669      57.057837   \n",
       "57          -62.1750    0.666609    1.474276     -0.807667      29.976656   \n",
       "\n",
       "    Avg_Rank_diff  \n",
       "1       -0.457143  \n",
       "33      -0.119048  \n",
       "57      -0.000952  "
      ]
     },
     "execution_count": 7,
     "metadata": {},
     "output_type": "execute_result"
    }
   ],
   "source": [
    "## Merge Base of Tournament Games w/ X-Features\n",
    "model_data = createModelData(base_dev, scaled_x_features_dev, columns_key)\n",
    "print(model_data.shape)\n",
    "model_data.head(3)"
   ]
  },
  {
   "cell_type": "code",
   "execution_count": 8,
   "metadata": {},
   "outputs": [
    {
     "data": {
      "text/plain": [
       "(914, 14)"
      ]
     },
     "execution_count": 8,
     "metadata": {},
     "output_type": "execute_result"
    }
   ],
   "source": [
    "# Reverse H/A teams in base and create modeling dataset\n",
    "base_reverse = reverse_base(base_dev)\n",
    "model_data_reverse = createModelData(base_reverse, scaled_x_features_dev, columns_key)\n",
    "model_data_reverse.shape"
   ]
  },
  {
   "cell_type": "code",
   "execution_count": 9,
   "metadata": {},
   "outputs": [
    {
     "data": {
      "text/plain": [
       "(1828, 14)"
      ]
     },
     "execution_count": 9,
     "metadata": {},
     "output_type": "execute_result"
    }
   ],
   "source": [
    "model_data = model_data.append(model_data_reverse)\n",
    "model_data.shape"
   ]
  },
  {
   "cell_type": "code",
   "execution_count": 10,
   "metadata": {},
   "outputs": [],
   "source": [
    "### Define Grid Search Parameters\n",
    "seed = 96\n",
    "\n",
    "parameters = {'max_depth': [3, 4, 5],\n",
    "'learning_rate':[0.1],\n",
    "'n_estimators': [10, 100, 1000], #number of trees, change it to 1000 for better results\n",
    "'gamma':[0, 0.05, 0.1],\n",
    "'min_child_weight':[0, 2, 4],\n",
    "'seed': [seed]} # binary:logistic\n",
    "\n",
    "xgb_model = xgb.XGBRegressor()\n",
    "\n",
    "clf = GridSearchCV(xgb_model, parameters, n_jobs=5, cv=5, verbose=0, refit=True)"
   ]
  },
  {
   "cell_type": "code",
   "execution_count": 11,
   "metadata": {},
   "outputs": [
    {
     "name": "stdout",
     "output_type": "stream",
     "text": [
      "['possessions_diff', 'o_eff_diff', 'd_eff_diff', 'net_eff_diff', 'last_elo_diff', 'Avg_Rank_diff']\n",
      "['HScore_diff']\n"
     ]
    }
   ],
   "source": [
    "# Define features to use\n",
    "included_features = columns_key['features']\n",
    "print(included_features)\n",
    "target = columns_key['target']\n",
    "print(target)"
   ]
  },
  {
   "cell_type": "code",
   "execution_count": 12,
   "metadata": {},
   "outputs": [
    {
     "name": "stdout",
     "output_type": "stream",
     "text": [
      "XGBRegressor(base_score=0.5, booster='gbtree', colsample_bylevel=1,\n",
      "             colsample_bytree=1, gamma=0.05, learning_rate=0.1,\n",
      "             max_delta_step=0, max_depth=3, min_child_weight=0, missing=None,\n",
      "             n_estimators=100, n_jobs=1, nthread=None, objective='reg:linear',\n",
      "             random_state=0, reg_alpha=0, reg_lambda=1, scale_pos_weight=1,\n",
      "             seed=96, silent=True, subsample=1)\n",
      "            feature         0\n",
      "5     Avg_Rank_diff  0.252585\n",
      "0  possessions_diff  0.193501\n",
      "1        o_eff_diff  0.163959\n",
      "4     last_elo_diff  0.143279\n",
      "3      net_eff_diff  0.131462\n",
      "2        d_eff_diff  0.115214\n"
     ]
    }
   ],
   "source": [
    "# Fit Model\n",
    "clf.fit(model_data[included_features], model_data[target])\n",
    "\n",
    "# Best Estimator \n",
    "print(clf.best_estimator_)\n",
    "\n",
    "# Feature Importances\n",
    "print(pd.DataFrame(included_features, columns=['feature'])\\\n",
    ".merge(pd.DataFrame(clf.best_estimator_.feature_importances_), left_index=True, right_index=True)\\\n",
    ".sort_values(0, ascending=False))"
   ]
  },
  {
   "cell_type": "code",
   "execution_count": 13,
   "metadata": {},
   "outputs": [
    {
     "data": {
      "text/plain": [
       "{'clf': GridSearchCV(cv=5, error_score=nan,\n",
       "              estimator=XGBRegressor(base_score=0.5, booster='gbtree',\n",
       "                                     colsample_bylevel=1, colsample_bytree=1,\n",
       "                                     gamma=0, learning_rate=0.1,\n",
       "                                     max_delta_step=0, max_depth=3,\n",
       "                                     min_child_weight=1, missing=None,\n",
       "                                     n_estimators=100, n_jobs=1, nthread=None,\n",
       "                                     objective='reg:linear', random_state=0,\n",
       "                                     reg_alpha=0, reg_lambda=1,\n",
       "                                     scale_pos_weight=1, seed=None, silent=True,\n",
       "                                     subsample=1),\n",
       "              iid='deprecated', n_jobs=5,\n",
       "              param_grid={'gamma': [0, 0.05, 0.1], 'learning_rate': [0.1],\n",
       "                          'max_depth': [3, 4, 5], 'min_child_weight': [0, 2, 4],\n",
       "                          'n_estimators': [10, 100, 1000], 'seed': [96]},\n",
       "              pre_dispatch='2*n_jobs', refit=True, return_train_score=False,\n",
       "              scoring=None, verbose=0), 'mean': HScore_diff    0.0\n",
       " dtype: float64, 'std': HScore_diff    14.340034\n",
       " dtype: float64}"
      ]
     },
     "execution_count": 13,
     "metadata": {},
     "output_type": "execute_result"
    }
   ],
   "source": [
    "## Create dictionary to store output necessary to get predictions & probabilities\n",
    "mean = model_data[target].mean()\n",
    "std = model_data[target].std()\n",
    "\n",
    "model = {}\n",
    "model['clf'] = clf\n",
    "model['mean'] = mean\n",
    "model['std'] = std\n",
    "\n",
    "model"
   ]
  },
  {
   "cell_type": "code",
   "execution_count": null,
   "metadata": {},
   "outputs": [],
   "source": []
  }
 ],
 "metadata": {
  "kernelspec": {
   "display_name": "Python 3",
   "language": "python",
   "name": "python3"
  },
  "language_info": {
   "codemirror_mode": {
    "name": "ipython",
    "version": 3
   },
   "file_extension": ".py",
   "mimetype": "text/x-python",
   "name": "python",
   "nbconvert_exporter": "python",
   "pygments_lexer": "ipython3",
   "version": "3.6.8"
  }
 },
 "nbformat": 4,
 "nbformat_minor": 2
}
